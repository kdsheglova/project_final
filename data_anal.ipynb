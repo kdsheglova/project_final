{
 "cells": [
  {
   "cell_type": "code",
   "execution_count": 233,
   "id": "c610d71c",
   "metadata": {},
   "outputs": [],
   "source": [
    "import requests\n",
    "import time\n",
    "from bs4 import BeautifulSoup as BS\n",
    "from selenium import webdriver\n",
    "import re\n",
    "import pandas as pd\n",
    "import numpy as np\n",
    "import matplotlib as mlt\n",
    "import matplotlib.pyplot as plt\n",
    "import math\n",
    "import random\n",
    "import scipy\n",
    "import networkx as nx"
   ]
  },
  {
   "cell_type": "code",
   "execution_count": 127,
   "id": "b96a6fb1",
   "metadata": {},
   "outputs": [],
   "source": [
    "df_work = pd.read_csv(\"films_data17.csv\")"
   ]
  },
  {
   "cell_type": "code",
   "execution_count": 128,
   "id": "82b5305b",
   "metadata": {},
   "outputs": [
    {
     "data": {
      "text/html": [
       "<div>\n",
       "<style scoped>\n",
       "    .dataframe tbody tr th:only-of-type {\n",
       "        vertical-align: middle;\n",
       "    }\n",
       "\n",
       "    .dataframe tbody tr th {\n",
       "        vertical-align: top;\n",
       "    }\n",
       "\n",
       "    .dataframe thead th {\n",
       "        text-align: right;\n",
       "    }\n",
       "</style>\n",
       "<table border=\"1\" class=\"dataframe\">\n",
       "  <thead>\n",
       "    <tr style=\"text-align: right;\">\n",
       "      <th></th>\n",
       "      <th>title</th>\n",
       "      <th>bestRating</th>\n",
       "      <th>ratingValue</th>\n",
       "      <th>ratingCount</th>\n",
       "      <th>country</th>\n",
       "      <th>date</th>\n",
       "      <th>budget</th>\n",
       "      <th>actors</th>\n",
       "      <th>link</th>\n",
       "      <th>ratingValue_qcut</th>\n",
       "    </tr>\n",
       "  </thead>\n",
       "  <tbody>\n",
       "    <tr>\n",
       "      <th>0</th>\n",
       "      <td>Дьявол носит Prada</td>\n",
       "      <td>10.0</td>\n",
       "      <td>7.688</td>\n",
       "      <td>564701.0</td>\n",
       "      <td>Франция</td>\n",
       "      <td>2006.0</td>\n",
       "      <td>(35000000, '$')</td>\n",
       "      <td>['Мэрил Стрип', 'Энн Хэтэуэй', 'Эмили Блант', ...</td>\n",
       "      <td>/film/104992/</td>\n",
       "      <td>(7.654, 7.868]</td>\n",
       "    </tr>\n",
       "    <tr>\n",
       "      <th>1</th>\n",
       "      <td>Реквием по мечте</td>\n",
       "      <td>10.0</td>\n",
       "      <td>7.994</td>\n",
       "      <td>347862.0</td>\n",
       "      <td>США</td>\n",
       "      <td>2000.0</td>\n",
       "      <td>(4500000, '$')</td>\n",
       "      <td>['Джаред Лето', 'Марлон Уайанс', 'Дженнифер Ко...</td>\n",
       "      <td>/film/367/</td>\n",
       "      <td>(7.986, 8.03]</td>\n",
       "    </tr>\n",
       "    <tr>\n",
       "      <th>2</th>\n",
       "      <td>Брат</td>\n",
       "      <td>10.0</td>\n",
       "      <td>8.294</td>\n",
       "      <td>1058539.0</td>\n",
       "      <td>Россия</td>\n",
       "      <td>1997.0</td>\n",
       "      <td>NaN</td>\n",
       "      <td>NaN</td>\n",
       "      <td>/film/41519/</td>\n",
       "      <td>(8.268, 8.464]</td>\n",
       "    </tr>\n",
       "    <tr>\n",
       "      <th>3</th>\n",
       "      <td>Король говорит!</td>\n",
       "      <td>10.0</td>\n",
       "      <td>8.016</td>\n",
       "      <td>343447.0</td>\n",
       "      <td>США</td>\n",
       "      <td>2010.0</td>\n",
       "      <td>(15000000, '$')</td>\n",
       "      <td>['Колин Фёрт', 'Джеффри Раш', 'Хелена Бонем Ка...</td>\n",
       "      <td>/film/485311/</td>\n",
       "      <td>(7.986, 8.03]</td>\n",
       "    </tr>\n",
       "    <tr>\n",
       "      <th>4</th>\n",
       "      <td>Крестный отец</td>\n",
       "      <td>10.0</td>\n",
       "      <td>8.709</td>\n",
       "      <td>365075.0</td>\n",
       "      <td>США</td>\n",
       "      <td>1972.0</td>\n",
       "      <td>(6000000, '$')</td>\n",
       "      <td>['Марлон Брандо', 'Аль Пачино', 'Джеймс Каан',...</td>\n",
       "      <td>/film/325/</td>\n",
       "      <td>(8.672, 9.108]</td>\n",
       "    </tr>\n",
       "    <tr>\n",
       "      <th>...</th>\n",
       "      <td>...</td>\n",
       "      <td>...</td>\n",
       "      <td>...</td>\n",
       "      <td>...</td>\n",
       "      <td>...</td>\n",
       "      <td>...</td>\n",
       "      <td>...</td>\n",
       "      <td>...</td>\n",
       "      <td>...</td>\n",
       "      <td>...</td>\n",
       "    </tr>\n",
       "    <tr>\n",
       "      <th>58</th>\n",
       "      <td>Интервью с вампиром</td>\n",
       "      <td>10.0</td>\n",
       "      <td>7.954</td>\n",
       "      <td>216284.0</td>\n",
       "      <td>США</td>\n",
       "      <td>1994.0</td>\n",
       "      <td>(60000000, '$')</td>\n",
       "      <td>['Том Круз', 'Брэд Питт', 'Стивен Ри', 'Антони...</td>\n",
       "      <td>/film/8151/</td>\n",
       "      <td>NaN</td>\n",
       "    </tr>\n",
       "    <tr>\n",
       "      <th>59</th>\n",
       "      <td>Социальная сеть</td>\n",
       "      <td>10.0</td>\n",
       "      <td>7.729</td>\n",
       "      <td>309499.0</td>\n",
       "      <td>США</td>\n",
       "      <td>2010.0</td>\n",
       "      <td>(50000000, '$')</td>\n",
       "      <td>['Джесси Айзенберг', 'Эндрю Гарфилд', 'Джастин...</td>\n",
       "      <td>/film/427198/</td>\n",
       "      <td>NaN</td>\n",
       "    </tr>\n",
       "    <tr>\n",
       "      <th>60</th>\n",
       "      <td>Гордость и предубеждение</td>\n",
       "      <td>10.0</td>\n",
       "      <td>8.027</td>\n",
       "      <td>283298.0</td>\n",
       "      <td>США</td>\n",
       "      <td>2005.0</td>\n",
       "      <td>(28000000, '$')</td>\n",
       "      <td>['Кира Найтли', 'Мэттью Макфэдиен', 'Розамунд ...</td>\n",
       "      <td>/film/81733/</td>\n",
       "      <td>NaN</td>\n",
       "    </tr>\n",
       "    <tr>\n",
       "      <th>61</th>\n",
       "      <td>Запах женщины</td>\n",
       "      <td>10.0</td>\n",
       "      <td>8.448</td>\n",
       "      <td>285681.0</td>\n",
       "      <td>США</td>\n",
       "      <td>1992.0</td>\n",
       "      <td>(31000000, '$')</td>\n",
       "      <td>['Аль Пачино', 'Крис О’Доннелл', 'Джеймс Ребхо...</td>\n",
       "      <td>/film/4871/</td>\n",
       "      <td>NaN</td>\n",
       "    </tr>\n",
       "    <tr>\n",
       "      <th>62</th>\n",
       "      <td>Чудо</td>\n",
       "      <td>10.0</td>\n",
       "      <td>8.103</td>\n",
       "      <td>225234.0</td>\n",
       "      <td>Канада</td>\n",
       "      <td>2017.0</td>\n",
       "      <td>(20000000, '$')</td>\n",
       "      <td>['Джейкоб Тремблей', 'Оуэн Уилсон', 'Изабела В...</td>\n",
       "      <td>/film/722951/</td>\n",
       "      <td>NaN</td>\n",
       "    </tr>\n",
       "  </tbody>\n",
       "</table>\n",
       "<p>63 rows × 10 columns</p>\n",
       "</div>"
      ],
      "text/plain": [
       "                       title  bestRating  ratingValue  ratingCount  country   \n",
       "0         Дьявол носит Prada        10.0        7.688     564701.0  Франция  \\\n",
       "1           Реквием по мечте        10.0        7.994     347862.0      США   \n",
       "2                       Брат        10.0        8.294    1058539.0   Россия   \n",
       "3            Король говорит!        10.0        8.016     343447.0      США   \n",
       "4              Крестный отец        10.0        8.709     365075.0      США   \n",
       "..                       ...         ...          ...          ...      ...   \n",
       "58       Интервью с вампиром        10.0        7.954     216284.0      США   \n",
       "59           Социальная сеть        10.0        7.729     309499.0      США   \n",
       "60  Гордость и предубеждение        10.0        8.027     283298.0      США   \n",
       "61             Запах женщины        10.0        8.448     285681.0      США   \n",
       "62                      Чудо        10.0        8.103     225234.0   Канада   \n",
       "\n",
       "      date           budget   \n",
       "0   2006.0  (35000000, '$')  \\\n",
       "1   2000.0   (4500000, '$')   \n",
       "2   1997.0              NaN   \n",
       "3   2010.0  (15000000, '$')   \n",
       "4   1972.0   (6000000, '$')   \n",
       "..     ...              ...   \n",
       "58  1994.0  (60000000, '$')   \n",
       "59  2010.0  (50000000, '$')   \n",
       "60  2005.0  (28000000, '$')   \n",
       "61  1992.0  (31000000, '$')   \n",
       "62  2017.0  (20000000, '$')   \n",
       "\n",
       "                                               actors           link   \n",
       "0   ['Мэрил Стрип', 'Энн Хэтэуэй', 'Эмили Блант', ...  /film/104992/  \\\n",
       "1   ['Джаред Лето', 'Марлон Уайанс', 'Дженнифер Ко...     /film/367/   \n",
       "2                                                 NaN   /film/41519/   \n",
       "3   ['Колин Фёрт', 'Джеффри Раш', 'Хелена Бонем Ка...  /film/485311/   \n",
       "4   ['Марлон Брандо', 'Аль Пачино', 'Джеймс Каан',...     /film/325/   \n",
       "..                                                ...            ...   \n",
       "58  ['Том Круз', 'Брэд Питт', 'Стивен Ри', 'Антони...    /film/8151/   \n",
       "59  ['Джесси Айзенберг', 'Эндрю Гарфилд', 'Джастин...  /film/427198/   \n",
       "60  ['Кира Найтли', 'Мэттью Макфэдиен', 'Розамунд ...   /film/81733/   \n",
       "61  ['Аль Пачино', 'Крис О’Доннелл', 'Джеймс Ребхо...    /film/4871/   \n",
       "62  ['Джейкоб Тремблей', 'Оуэн Уилсон', 'Изабела В...  /film/722951/   \n",
       "\n",
       "   ratingValue_qcut  \n",
       "0    (7.654, 7.868]  \n",
       "1     (7.986, 8.03]  \n",
       "2    (8.268, 8.464]  \n",
       "3     (7.986, 8.03]  \n",
       "4    (8.672, 9.108]  \n",
       "..              ...  \n",
       "58              NaN  \n",
       "59              NaN  \n",
       "60              NaN  \n",
       "61              NaN  \n",
       "62              NaN  \n",
       "\n",
       "[63 rows x 10 columns]"
      ]
     },
     "execution_count": 128,
     "metadata": {},
     "output_type": "execute_result"
    }
   ],
   "source": [
    "df_work"
   ]
  },
  {
   "cell_type": "code",
   "execution_count": 129,
   "id": "229fdd87",
   "metadata": {},
   "outputs": [
    {
     "data": {
      "image/png": "[encoded data removed]",
      "text/plain": [
       "<Figure size 800x400 with 1 Axes>"
      ]
     },
     "metadata": {},
     "output_type": "display_data"
    },
    {
     "data": {
      "text/plain": [
       "<Figure size 640x480 with 0 Axes>"
      ]
     },
     "metadata": {},
     "output_type": "display_data"
    }
   ],
   "source": [
    "df_work['ratingValue_qcut'] = pd.qcut(df_work['ratingValue'], 10)\n",
    "\n",
    "df_work.groupby('ratingValue_qcut')['ratingValue'].count().plot.bar(color='C9',align='center',width=0.9,figsize=(8,4))\n",
    "\n",
    "plt.title('Разбиение рейтинга фильмов')\n",
    "plt.legend()\n",
    "plt.show()\n",
    "plt.savefig('Разбиение.png')"
   ]
  },
  {
   "cell_type": "code",
   "execution_count": 130,
   "id": "78e6062a",
   "metadata": {},
   "outputs": [
    {
     "data": {
      "text/plain": [
       "<matplotlib.collections.PathCollection at 0x23a9374d7d0>"
      ]
     },
     "execution_count": 130,
     "metadata": {},
     "output_type": "execute_result"
    },
    {
     "data": {
      "image/png": "[encoded data removed]",
      "text/plain": [
       "<Figure size 640x480 with 1 Axes>"
      ]
     },
     "metadata": {},
     "output_type": "display_data"
    }
   ],
   "source": [
    "plt.scatter(df_work['date'],df_work['ratingValue'])"
   ]
  },
  {
   "cell_type": "code",
   "execution_count": 131,
   "id": "dbeaeae0",
   "metadata": {},
   "outputs": [
    {
     "data": {
      "text/plain": [
       "Text(0, 0.5, 'Частота')"
      ]
     },
     "execution_count": 131,
     "metadata": {},
     "output_type": "execute_result"
    },
    {
     "data": {
      "image/png": "[encoded data removed]",
      "text/plain": [
       "<Figure size 640x480 with 1 Axes>"
      ]
     },
     "metadata": {},
     "output_type": "display_data"
    }
   ],
   "source": [
    "(df_work['ratingCount']/1000).plot.hist()\n",
    "plt.xlabel('Количество просмотров (тыс.)')\n",
    "plt.ylabel('Частота')"
   ]
  },
  {
   "cell_type": "code",
   "execution_count": 132,
   "id": "c7585dd6",
   "metadata": {},
   "outputs": [
    {
     "data": {
      "image/png": "[encoded data removed]",
      "text/plain": [
       "<Figure size 720x432 with 1 Axes>"
      ]
     },
     "metadata": {},
     "output_type": "display_data"
    }
   ],
   "source": [
    "# df_work.groupby(df_work.country)['ratingValue'].count().plot.pie()\n",
    "# plt.legend(labels=labels,loc=(1.5,0))\n",
    "plt.figure(figsize=(10, 6), dpi=72)\n",
    "plt.pie(df_work.groupby(df_work.country)['ratingValue'].count(),colors = random.choices(list(mlt.colors.CSS4_COLORS.values()),k = df_work.groupby(df_work.country).ngroups))\n",
    "plt.legend(labels=df_work.groupby(df_work.country).groups,loc=(1,0))\n",
    "plt.show()"
   ]
  },
  {
   "cell_type": "markdown",
   "id": "9c761167",
   "metadata": {},
   "source": [
    "Посчитаем бюджет"
   ]
  },
  {
   "cell_type": "code",
   "execution_count": 133,
   "id": "05b8a518",
   "metadata": {},
   "outputs": [],
   "source": [
    "budget_amount = []\n",
    "budget_currency = []\n",
    "list_budget = list(df_work['budget'])\n",
    "for i in range(len(list_budget)):\n",
    "    if type(list_budget[i]) == str:\n",
    "#         print(list_budget[i])\n",
    "        list_budget[i] = list_budget[i][1:-1].split(',')  \n",
    "        list_budget[i][0]=float(list_budget[i][0])\n",
    "        list_budget[i][1]=str(list_budget[i][1])[1:]\n",
    "    else:\n",
    "        list_budget[i]=[np.nan,np.nan]\n",
    "    budget_amount.append(list_budget[i][0])\n",
    "    budget_currency.append(list_budget[i][1])\n",
    "    \n",
    "\n",
    "\n"
   ]
  },
  {
   "cell_type": "code",
   "execution_count": 134,
   "id": "84679a6c",
   "metadata": {},
   "outputs": [],
   "source": [
    "df_work['budget_amount'] = pd.Series(budget_amount)\n",
    "df_work['budget_currency'] = pd.Series(budget_currency)"
   ]
  },
  {
   "cell_type": "code",
   "execution_count": 135,
   "id": "db70d4b6",
   "metadata": {},
   "outputs": [
    {
     "data": {
      "text/plain": [
       "Index(['title', 'bestRating', 'ratingValue', 'ratingCount', 'country', 'date',\n",
       "       'budget', 'actors', 'link', 'ratingValue_qcut', 'budget_amount',\n",
       "       'budget_currency'],\n",
       "      dtype='object')"
      ]
     },
     "execution_count": 135,
     "metadata": {},
     "output_type": "execute_result"
    }
   ],
   "source": [
    "df_work.columns"
   ]
  },
  {
   "cell_type": "code",
   "execution_count": 136,
   "id": "fb46b6d7",
   "metadata": {},
   "outputs": [
    {
     "data": {
      "text/plain": [
       "budget_currency\n",
       "'$'    52\n",
       "'£'     1\n",
       "'€'     1\n",
       "'₽'     2\n",
       "Name: title, dtype: int64"
      ]
     },
     "execution_count": 136,
     "metadata": {},
     "output_type": "execute_result"
    }
   ],
   "source": [
    "df_work.groupby('budget_currency')['title'].count()"
   ]
  },
  {
   "cell_type": "markdown",
   "id": "360b81d2",
   "metadata": {},
   "source": [
    "Исследование"
   ]
  },
  {
   "cell_type": "code",
   "execution_count": 137,
   "id": "372d4d7a",
   "metadata": {},
   "outputs": [
    {
     "data": {
      "text/plain": [
       "{''$'': [0, 1, 3, 4, 5, 6, 7, 8, 9, 11, 12, 13, 14, 15, 16, 19, 20, 21, 22, 23, 24, 25, 26, 27, 28, 29, 30, 32, 33, 34, 35, 37, 38, 39, 41, 42, 44, 45, 47, 48, 50, 51, 52, 53, 55, 56, 57, 58, 59, 60, 61, 62], ''£'': [49], ''€'': [10], ''₽'': [18, 36]}"
      ]
     },
     "execution_count": 137,
     "metadata": {},
     "output_type": "execute_result"
    }
   ],
   "source": [
    "df_work.groupby('budget_currency').groups"
   ]
  },
  {
   "cell_type": "code",
   "execution_count": 144,
   "id": "e9ed164f",
   "metadata": {},
   "outputs": [],
   "source": [
    "df_work_study = df_work.loc[df_work['budget_currency'] == \"'$'\" ][['ratingValue','ratingCount','budget_amount','date']].dropna() "
   ]
  },
  {
   "cell_type": "code",
   "execution_count": 145,
   "id": "6ae3d753",
   "metadata": {},
   "outputs": [
    {
     "data": {
      "text/html": [
       "<div>\n",
       "<style scoped>\n",
       "    .dataframe tbody tr th:only-of-type {\n",
       "        vertical-align: middle;\n",
       "    }\n",
       "\n",
       "    .dataframe tbody tr th {\n",
       "        vertical-align: top;\n",
       "    }\n",
       "\n",
       "    .dataframe thead th {\n",
       "        text-align: right;\n",
       "    }\n",
       "</style>\n",
       "<table border=\"1\" class=\"dataframe\">\n",
       "  <thead>\n",
       "    <tr style=\"text-align: right;\">\n",
       "      <th></th>\n",
       "      <th>ratingValue</th>\n",
       "      <th>ratingCount</th>\n",
       "      <th>budget_amount</th>\n",
       "      <th>date</th>\n",
       "    </tr>\n",
       "  </thead>\n",
       "  <tbody>\n",
       "    <tr>\n",
       "      <th>0</th>\n",
       "      <td>7.688</td>\n",
       "      <td>564701.0</td>\n",
       "      <td>35000000.0</td>\n",
       "      <td>2006.0</td>\n",
       "    </tr>\n",
       "    <tr>\n",
       "      <th>1</th>\n",
       "      <td>7.994</td>\n",
       "      <td>347862.0</td>\n",
       "      <td>4500000.0</td>\n",
       "      <td>2000.0</td>\n",
       "    </tr>\n",
       "    <tr>\n",
       "      <th>3</th>\n",
       "      <td>8.016</td>\n",
       "      <td>343447.0</td>\n",
       "      <td>15000000.0</td>\n",
       "      <td>2010.0</td>\n",
       "    </tr>\n",
       "    <tr>\n",
       "      <th>4</th>\n",
       "      <td>8.709</td>\n",
       "      <td>365075.0</td>\n",
       "      <td>6000000.0</td>\n",
       "      <td>1972.0</td>\n",
       "    </tr>\n",
       "    <tr>\n",
       "      <th>5</th>\n",
       "      <td>8.239</td>\n",
       "      <td>381237.0</td>\n",
       "      <td>25000000.0</td>\n",
       "      <td>2011.0</td>\n",
       "    </tr>\n",
       "    <tr>\n",
       "      <th>6</th>\n",
       "      <td>7.654</td>\n",
       "      <td>535487.0</td>\n",
       "      <td>90000000.0</td>\n",
       "      <td>2019.0</td>\n",
       "    </tr>\n",
       "    <tr>\n",
       "      <th>7</th>\n",
       "      <td>8.275</td>\n",
       "      <td>512457.0</td>\n",
       "      <td>60000000.0</td>\n",
       "      <td>1998.0</td>\n",
       "    </tr>\n",
       "    <tr>\n",
       "      <th>8</th>\n",
       "      <td>7.973</td>\n",
       "      <td>1116855.0</td>\n",
       "      <td>100000000.0</td>\n",
       "      <td>2013.0</td>\n",
       "    </tr>\n",
       "    <tr>\n",
       "      <th>9</th>\n",
       "      <td>8.260</td>\n",
       "      <td>377046.0</td>\n",
       "      <td>55000000.0</td>\n",
       "      <td>2006.0</td>\n",
       "    </tr>\n",
       "    <tr>\n",
       "      <th>11</th>\n",
       "      <td>8.350</td>\n",
       "      <td>491514.0</td>\n",
       "      <td>16000000.0</td>\n",
       "      <td>2008.0</td>\n",
       "    </tr>\n",
       "    <tr>\n",
       "      <th>12</th>\n",
       "      <td>7.731</td>\n",
       "      <td>335524.0</td>\n",
       "      <td>25000000.0</td>\n",
       "      <td>2015.0</td>\n",
       "    </tr>\n",
       "    <tr>\n",
       "      <th>13</th>\n",
       "      <td>8.357</td>\n",
       "      <td>393069.0</td>\n",
       "      <td>3300000.0</td>\n",
       "      <td>2013.0</td>\n",
       "    </tr>\n",
       "    <tr>\n",
       "      <th>14</th>\n",
       "      <td>8.117</td>\n",
       "      <td>424623.0</td>\n",
       "      <td>60000000.0</td>\n",
       "      <td>2004.0</td>\n",
       "    </tr>\n",
       "    <tr>\n",
       "      <th>15</th>\n",
       "      <td>8.242</td>\n",
       "      <td>355832.0</td>\n",
       "      <td>25000000.0</td>\n",
       "      <td>1988.0</td>\n",
       "    </tr>\n",
       "    <tr>\n",
       "      <th>16</th>\n",
       "      <td>8.142</td>\n",
       "      <td>420501.0</td>\n",
       "      <td>15000000.0</td>\n",
       "      <td>2017.0</td>\n",
       "    </tr>\n",
       "    <tr>\n",
       "      <th>19</th>\n",
       "      <td>7.736</td>\n",
       "      <td>321292.0</td>\n",
       "      <td>13000000.0</td>\n",
       "      <td>2010.0</td>\n",
       "    </tr>\n",
       "    <tr>\n",
       "      <th>20</th>\n",
       "      <td>7.899</td>\n",
       "      <td>385533.0</td>\n",
       "      <td>5000000.0</td>\n",
       "      <td>2013.0</td>\n",
       "    </tr>\n",
       "    <tr>\n",
       "      <th>21</th>\n",
       "      <td>8.518</td>\n",
       "      <td>328655.0</td>\n",
       "      <td>3000000.0</td>\n",
       "      <td>1975.0</td>\n",
       "    </tr>\n",
       "    <tr>\n",
       "      <th>22</th>\n",
       "      <td>8.060</td>\n",
       "      <td>472109.0</td>\n",
       "      <td>150000000.0</td>\n",
       "      <td>2008.0</td>\n",
       "    </tr>\n",
       "    <tr>\n",
       "      <th>23</th>\n",
       "      <td>9.108</td>\n",
       "      <td>928260.0</td>\n",
       "      <td>25000000.0</td>\n",
       "      <td>1994.0</td>\n",
       "    </tr>\n",
       "    <tr>\n",
       "      <th>24</th>\n",
       "      <td>8.253</td>\n",
       "      <td>352233.0</td>\n",
       "      <td>90000000.0</td>\n",
       "      <td>2000.0</td>\n",
       "    </tr>\n",
       "    <tr>\n",
       "      <th>25</th>\n",
       "      <td>8.546</td>\n",
       "      <td>477465.0</td>\n",
       "      <td>58000000.0</td>\n",
       "      <td>2001.0</td>\n",
       "    </tr>\n",
       "    <tr>\n",
       "      <th>26</th>\n",
       "      <td>8.843</td>\n",
       "      <td>479523.0</td>\n",
       "      <td>22000000.0</td>\n",
       "      <td>1993.0</td>\n",
       "    </tr>\n",
       "    <tr>\n",
       "      <th>27</th>\n",
       "      <td>9.073</td>\n",
       "      <td>899161.0</td>\n",
       "      <td>60000000.0</td>\n",
       "      <td>1999.0</td>\n",
       "    </tr>\n",
       "    <tr>\n",
       "      <th>28</th>\n",
       "      <td>7.978</td>\n",
       "      <td>561871.0</td>\n",
       "      <td>55000000.0</td>\n",
       "      <td>2019.0</td>\n",
       "    </tr>\n",
       "    <tr>\n",
       "      <th>29</th>\n",
       "      <td>8.206</td>\n",
       "      <td>422042.0</td>\n",
       "      <td>55000000.0</td>\n",
       "      <td>2008.0</td>\n",
       "    </tr>\n",
       "    <tr>\n",
       "      <th>30</th>\n",
       "      <td>8.087</td>\n",
       "      <td>397335.0</td>\n",
       "      <td>1300000.0</td>\n",
       "      <td>2014.0</td>\n",
       "    </tr>\n",
       "    <tr>\n",
       "      <th>32</th>\n",
       "      <td>8.296</td>\n",
       "      <td>345736.0</td>\n",
       "      <td>20000000.0</td>\n",
       "      <td>1998.0</td>\n",
       "    </tr>\n",
       "    <tr>\n",
       "      <th>33</th>\n",
       "      <td>8.918</td>\n",
       "      <td>826731.0</td>\n",
       "      <td>55000000.0</td>\n",
       "      <td>1994.0</td>\n",
       "    </tr>\n",
       "    <tr>\n",
       "      <th>34</th>\n",
       "      <td>8.019</td>\n",
       "      <td>496309.0</td>\n",
       "      <td>11800000.0</td>\n",
       "      <td>2019.0</td>\n",
       "    </tr>\n",
       "    <tr>\n",
       "      <th>35</th>\n",
       "      <td>8.247</td>\n",
       "      <td>361803.0</td>\n",
       "      <td>29000000.0</td>\n",
       "      <td>2004.0</td>\n",
       "    </tr>\n",
       "    <tr>\n",
       "      <th>37</th>\n",
       "      <td>7.944</td>\n",
       "      <td>427763.0</td>\n",
       "      <td>105000000.0</td>\n",
       "      <td>2013.0</td>\n",
       "    </tr>\n",
       "    <tr>\n",
       "      <th>38</th>\n",
       "      <td>8.464</td>\n",
       "      <td>343455.0</td>\n",
       "      <td>35000000.0</td>\n",
       "      <td>2002.0</td>\n",
       "    </tr>\n",
       "    <tr>\n",
       "      <th>39</th>\n",
       "      <td>8.529</td>\n",
       "      <td>198913.0</td>\n",
       "      <td>13000000.0</td>\n",
       "      <td>1974.0</td>\n",
       "    </tr>\n",
       "    <tr>\n",
       "      <th>41</th>\n",
       "      <td>8.084</td>\n",
       "      <td>223683.0</td>\n",
       "      <td>10000000.0</td>\n",
       "      <td>1997.0</td>\n",
       "    </tr>\n",
       "    <tr>\n",
       "      <th>42</th>\n",
       "      <td>8.005</td>\n",
       "      <td>299820.0</td>\n",
       "      <td>16500000.0</td>\n",
       "      <td>2005.0</td>\n",
       "    </tr>\n",
       "    <tr>\n",
       "      <th>44</th>\n",
       "      <td>7.269</td>\n",
       "      <td>248840.0</td>\n",
       "      <td>20000000.0</td>\n",
       "      <td>2016.0</td>\n",
       "    </tr>\n",
       "    <tr>\n",
       "      <th>45</th>\n",
       "      <td>7.504</td>\n",
       "      <td>243532.0</td>\n",
       "      <td>75000000.0</td>\n",
       "      <td>2021.0</td>\n",
       "    </tr>\n",
       "    <tr>\n",
       "      <th>47</th>\n",
       "      <td>8.143</td>\n",
       "      <td>240803.0</td>\n",
       "      <td>38000000.0</td>\n",
       "      <td>2017.0</td>\n",
       "    </tr>\n",
       "    <tr>\n",
       "      <th>48</th>\n",
       "      <td>8.049</td>\n",
       "      <td>240889.0</td>\n",
       "      <td>45000000.0</td>\n",
       "      <td>2007.0</td>\n",
       "    </tr>\n",
       "    <tr>\n",
       "      <th>50</th>\n",
       "      <td>8.100</td>\n",
       "      <td>267370.0</td>\n",
       "      <td>30000000.0</td>\n",
       "      <td>2004.0</td>\n",
       "    </tr>\n",
       "    <tr>\n",
       "      <th>51</th>\n",
       "      <td>8.030</td>\n",
       "      <td>200883.0</td>\n",
       "      <td>25000000.0</td>\n",
       "      <td>2011.0</td>\n",
       "    </tr>\n",
       "    <tr>\n",
       "      <th>52</th>\n",
       "      <td>7.072</td>\n",
       "      <td>221320.0</td>\n",
       "      <td>5000000.0</td>\n",
       "      <td>2009.0</td>\n",
       "    </tr>\n",
       "    <tr>\n",
       "      <th>53</th>\n",
       "      <td>7.654</td>\n",
       "      <td>213562.0</td>\n",
       "      <td>135000000.0</td>\n",
       "      <td>2020.0</td>\n",
       "    </tr>\n",
       "    <tr>\n",
       "      <th>55</th>\n",
       "      <td>7.886</td>\n",
       "      <td>190310.0</td>\n",
       "      <td>11800000.0</td>\n",
       "      <td>2002.0</td>\n",
       "    </tr>\n",
       "    <tr>\n",
       "      <th>56</th>\n",
       "      <td>7.863</td>\n",
       "      <td>239939.0</td>\n",
       "      <td>50000000.0</td>\n",
       "      <td>2014.0</td>\n",
       "    </tr>\n",
       "    <tr>\n",
       "      <th>57</th>\n",
       "      <td>8.182</td>\n",
       "      <td>286910.0</td>\n",
       "      <td>29000000.0</td>\n",
       "      <td>2009.0</td>\n",
       "    </tr>\n",
       "    <tr>\n",
       "      <th>58</th>\n",
       "      <td>7.954</td>\n",
       "      <td>216284.0</td>\n",
       "      <td>60000000.0</td>\n",
       "      <td>1994.0</td>\n",
       "    </tr>\n",
       "    <tr>\n",
       "      <th>59</th>\n",
       "      <td>7.729</td>\n",
       "      <td>309499.0</td>\n",
       "      <td>50000000.0</td>\n",
       "      <td>2010.0</td>\n",
       "    </tr>\n",
       "    <tr>\n",
       "      <th>60</th>\n",
       "      <td>8.027</td>\n",
       "      <td>283298.0</td>\n",
       "      <td>28000000.0</td>\n",
       "      <td>2005.0</td>\n",
       "    </tr>\n",
       "    <tr>\n",
       "      <th>61</th>\n",
       "      <td>8.448</td>\n",
       "      <td>285681.0</td>\n",
       "      <td>31000000.0</td>\n",
       "      <td>1992.0</td>\n",
       "    </tr>\n",
       "    <tr>\n",
       "      <th>62</th>\n",
       "      <td>8.103</td>\n",
       "      <td>225234.0</td>\n",
       "      <td>20000000.0</td>\n",
       "      <td>2017.0</td>\n",
       "    </tr>\n",
       "  </tbody>\n",
       "</table>\n",
       "</div>"
      ],
      "text/plain": [
       "    ratingValue  ratingCount  budget_amount    date\n",
       "0         7.688     564701.0     35000000.0  2006.0\n",
       "1         7.994     347862.0      4500000.0  2000.0\n",
       "3         8.016     343447.0     15000000.0  2010.0\n",
       "4         8.709     365075.0      6000000.0  1972.0\n",
       "5         8.239     381237.0     25000000.0  2011.0\n",
       "6         7.654     535487.0     90000000.0  2019.0\n",
       "7         8.275     512457.0     60000000.0  1998.0\n",
       "8         7.973    1116855.0    100000000.0  2013.0\n",
       "9         8.260     377046.0     55000000.0  2006.0\n",
       "11        8.350     491514.0     16000000.0  2008.0\n",
       "12        7.731     335524.0     25000000.0  2015.0\n",
       "13        8.357     393069.0      3300000.0  2013.0\n",
       "14        8.117     424623.0     60000000.0  2004.0\n",
       "15        8.242     355832.0     25000000.0  1988.0\n",
       "16        8.142     420501.0     15000000.0  2017.0\n",
       "19        7.736     321292.0     13000000.0  2010.0\n",
       "20        7.899     385533.0      5000000.0  2013.0\n",
       "21        8.518     328655.0      3000000.0  1975.0\n",
       "22        8.060     472109.0    150000000.0  2008.0\n",
       "23        9.108     928260.0     25000000.0  1994.0\n",
       "24        8.253     352233.0     90000000.0  2000.0\n",
       "25        8.546     477465.0     58000000.0  2001.0\n",
       "26        8.843     479523.0     22000000.0  1993.0\n",
       "27        9.073     899161.0     60000000.0  1999.0\n",
       "28        7.978     561871.0     55000000.0  2019.0\n",
       "29        8.206     422042.0     55000000.0  2008.0\n",
       "30        8.087     397335.0      1300000.0  2014.0\n",
       "32        8.296     345736.0     20000000.0  1998.0\n",
       "33        8.918     826731.0     55000000.0  1994.0\n",
       "34        8.019     496309.0     11800000.0  2019.0\n",
       "35        8.247     361803.0     29000000.0  2004.0\n",
       "37        7.944     427763.0    105000000.0  2013.0\n",
       "38        8.464     343455.0     35000000.0  2002.0\n",
       "39        8.529     198913.0     13000000.0  1974.0\n",
       "41        8.084     223683.0     10000000.0  1997.0\n",
       "42        8.005     299820.0     16500000.0  2005.0\n",
       "44        7.269     248840.0     20000000.0  2016.0\n",
       "45        7.504     243532.0     75000000.0  2021.0\n",
       "47        8.143     240803.0     38000000.0  2017.0\n",
       "48        8.049     240889.0     45000000.0  2007.0\n",
       "50        8.100     267370.0     30000000.0  2004.0\n",
       "51        8.030     200883.0     25000000.0  2011.0\n",
       "52        7.072     221320.0      5000000.0  2009.0\n",
       "53        7.654     213562.0    135000000.0  2020.0\n",
       "55        7.886     190310.0     11800000.0  2002.0\n",
       "56        7.863     239939.0     50000000.0  2014.0\n",
       "57        8.182     286910.0     29000000.0  2009.0\n",
       "58        7.954     216284.0     60000000.0  1994.0\n",
       "59        7.729     309499.0     50000000.0  2010.0\n",
       "60        8.027     283298.0     28000000.0  2005.0\n",
       "61        8.448     285681.0     31000000.0  1992.0\n",
       "62        8.103     225234.0     20000000.0  2017.0"
      ]
     },
     "execution_count": 145,
     "metadata": {},
     "output_type": "execute_result"
    }
   ],
   "source": [
    "df_work_study"
   ]
  },
  {
   "cell_type": "markdown",
   "id": "c871a0cd",
   "metadata": {},
   "source": [
    "Мы хотим посчитать корреляцию между следующими показателями: рейтинг фильма, кол-во просмотров, вложенный бюджет.\n",
    "Затем оценить её значимость\n",
    "\n",
    "\n"
   ]
  },
  {
   "cell_type": "code",
   "execution_count": 146,
   "id": "1c2e55b8",
   "metadata": {},
   "outputs": [
    {
     "data": {
      "text/html": [
       "<style type=\"text/css\">\n",
       "#T_4ac3e_row0_col0, #T_4ac3e_row1_col1, #T_4ac3e_row2_col2, #T_4ac3e_row3_col3 {\n",
       "  background-color: #b40426;\n",
       "  color: #f1f1f1;\n",
       "}\n",
       "#T_4ac3e_row0_col1, #T_4ac3e_row1_col0 {\n",
       "  background-color: #f6a385;\n",
       "  color: #000000;\n",
       "}\n",
       "#T_4ac3e_row0_col2, #T_4ac3e_row2_col0 {\n",
       "  background-color: #cdd9ec;\n",
       "  color: #000000;\n",
       "}\n",
       "#T_4ac3e_row0_col3, #T_4ac3e_row3_col0 {\n",
       "  background-color: #7a9df8;\n",
       "  color: #f1f1f1;\n",
       "}\n",
       "#T_4ac3e_row1_col2, #T_4ac3e_row2_col1 {\n",
       "  background-color: #f5c1a9;\n",
       "  color: #000000;\n",
       "}\n",
       "#T_4ac3e_row1_col3, #T_4ac3e_row3_col1 {\n",
       "  background-color: #d9dce1;\n",
       "  color: #000000;\n",
       "}\n",
       "#T_4ac3e_row2_col3, #T_4ac3e_row3_col2 {\n",
       "  background-color: #f5c2aa;\n",
       "  color: #000000;\n",
       "}\n",
       "</style>\n",
       "<table id=\"T_4ac3e\">\n",
       "  <thead>\n",
       "    <tr>\n",
       "      <th class=\"blank level0\" >&nbsp;</th>\n",
       "      <th id=\"T_4ac3e_level0_col0\" class=\"col_heading level0 col0\" >ratingValue</th>\n",
       "      <th id=\"T_4ac3e_level0_col1\" class=\"col_heading level0 col1\" >ratingCount</th>\n",
       "      <th id=\"T_4ac3e_level0_col2\" class=\"col_heading level0 col2\" >budget_amount</th>\n",
       "      <th id=\"T_4ac3e_level0_col3\" class=\"col_heading level0 col3\" >date</th>\n",
       "    </tr>\n",
       "  </thead>\n",
       "  <tbody>\n",
       "    <tr>\n",
       "      <th id=\"T_4ac3e_level0_row0\" class=\"row_heading level0 row0\" >ratingValue</th>\n",
       "      <td id=\"T_4ac3e_row0_col0\" class=\"data row0 col0\" >1.000000</td>\n",
       "      <td id=\"T_4ac3e_row0_col1\" class=\"data row0 col1\" >0.452558</td>\n",
       "      <td id=\"T_4ac3e_row0_col2\" class=\"data row0 col2\" >-0.109810</td>\n",
       "      <td id=\"T_4ac3e_row0_col3\" class=\"data row0 col3\" >-0.608995</td>\n",
       "    </tr>\n",
       "    <tr>\n",
       "      <th id=\"T_4ac3e_level0_row1\" class=\"row_heading level0 row1\" >ratingCount</th>\n",
       "      <td id=\"T_4ac3e_row1_col0\" class=\"data row1 col0\" >0.452558</td>\n",
       "      <td id=\"T_4ac3e_row1_col1\" class=\"data row1 col1\" >1.000000</td>\n",
       "      <td id=\"T_4ac3e_row1_col2\" class=\"data row1 col2\" >0.269514</td>\n",
       "      <td id=\"T_4ac3e_row1_col3\" class=\"data row1 col3\" >-0.029268</td>\n",
       "    </tr>\n",
       "    <tr>\n",
       "      <th id=\"T_4ac3e_level0_row2\" class=\"row_heading level0 row2\" >budget_amount</th>\n",
       "      <td id=\"T_4ac3e_row2_col0\" class=\"data row2 col0\" >-0.109810</td>\n",
       "      <td id=\"T_4ac3e_row2_col1\" class=\"data row2 col1\" >0.269514</td>\n",
       "      <td id=\"T_4ac3e_row2_col2\" class=\"data row2 col2\" >1.000000</td>\n",
       "      <td id=\"T_4ac3e_row2_col3\" class=\"data row2 col3\" >0.259426</td>\n",
       "    </tr>\n",
       "    <tr>\n",
       "      <th id=\"T_4ac3e_level0_row3\" class=\"row_heading level0 row3\" >date</th>\n",
       "      <td id=\"T_4ac3e_row3_col0\" class=\"data row3 col0\" >-0.608995</td>\n",
       "      <td id=\"T_4ac3e_row3_col1\" class=\"data row3 col1\" >-0.029268</td>\n",
       "      <td id=\"T_4ac3e_row3_col2\" class=\"data row3 col2\" >0.259426</td>\n",
       "      <td id=\"T_4ac3e_row3_col3\" class=\"data row3 col3\" >1.000000</td>\n",
       "    </tr>\n",
       "  </tbody>\n",
       "</table>\n"
      ],
      "text/plain": [
       "<pandas.io.formats.style.Styler at 0x23a93b78950>"
      ]
     },
     "execution_count": 146,
     "metadata": {},
     "output_type": "execute_result"
    }
   ],
   "source": [
    "correlations = df_work_study.corr()\n",
    "correlations.style.background_gradient(cmap='coolwarm',vmin=-1,vmax=1)"
   ]
  },
  {
   "cell_type": "code",
   "execution_count": 141,
   "id": "acf0e035",
   "metadata": {},
   "outputs": [
    {
     "data": {
      "text/plain": [
       "PearsonRResult(statistic=0.4525582309752906, pvalue=0.000755771602685132)"
      ]
     },
     "execution_count": 141,
     "metadata": {},
     "output_type": "execute_result"
    }
   ],
   "source": [
    "from scipy.stats import pearsonr\n",
    "pearsonr(df_work_study.ratingValue,df_work_study.ratingCount) \n",
    "# Статистически значимо"
   ]
  },
  {
   "cell_type": "code",
   "execution_count": 142,
   "id": "a47ca24d",
   "metadata": {},
   "outputs": [
    {
     "data": {
      "text/plain": [
       "PearsonRResult(statistic=-0.10980964706427626, pvalue=0.43837075736230546)"
      ]
     },
     "execution_count": 142,
     "metadata": {},
     "output_type": "execute_result"
    }
   ],
   "source": [
    "pearsonr(df_work_study.ratingValue,df_work_study.budget_amount) \n",
    "# не статистически значимо"
   ]
  },
  {
   "cell_type": "code",
   "execution_count": 143,
   "id": "15c17ba7",
   "metadata": {},
   "outputs": [
    {
     "data": {
      "text/plain": [
       "PearsonRResult(statistic=0.26951389471134535, pvalue=0.05333881603756887)"
      ]
     },
     "execution_count": 143,
     "metadata": {},
     "output_type": "execute_result"
    }
   ],
   "source": [
    "pearsonr(df_work_study.ratingCount,df_work_study.budget_amount) \n",
    "# сильно зависит от того, какой уровень значимости хотим "
   ]
  },
  {
   "cell_type": "code",
   "execution_count": 152,
   "id": "932e44d1",
   "metadata": {},
   "outputs": [
    {
     "data": {
      "text/plain": [
       "PearsonRResult(statistic=-0.02926801936979133, pvalue=0.8368157401513273)"
      ]
     },
     "execution_count": 152,
     "metadata": {},
     "output_type": "execute_result"
    }
   ],
   "source": [
    "pearsonr(df_work_study.ratingCount,df_work_study.date)"
   ]
  },
  {
   "cell_type": "code",
   "execution_count": 153,
   "id": "5cefcda7",
   "metadata": {},
   "outputs": [
    {
     "data": {
      "text/plain": [
       "PearsonRResult(statistic=0.2594264926787167, pvalue=0.06328095066512639)"
      ]
     },
     "execution_count": 153,
     "metadata": {},
     "output_type": "execute_result"
    }
   ],
   "source": [
    "pearsonr(df_work_study.budget_amount,df_work_study.date)"
   ]
  },
  {
   "cell_type": "code",
   "execution_count": 154,
   "id": "abee113d",
   "metadata": {},
   "outputs": [
    {
     "data": {
      "text/plain": [
       "PearsonRResult(statistic=-0.6089950775351528, pvalue=1.6630053176846793e-06)"
      ]
     },
     "execution_count": 154,
     "metadata": {},
     "output_type": "execute_result"
    }
   ],
   "source": [
    "pearsonr(df_work_study.ratingValue,df_work_study.date)"
   ]
  },
  {
   "cell_type": "markdown",
   "id": "b2bcdadf",
   "metadata": {},
   "source": [
    "Сделаем статистический тест ради статистического теста\n",
    "\n",
    "У нас есть данные с 1970 по 2020.\n",
    "\n",
    "Давайте про тестируем гипотезу о том, что \"раньше\" фильмы были лучше, чем \"сейчас\" (по субъективному восприятию зрителей)\n",
    "Нулевая гипотеза: рейтинг фильмов до 2000 года выше, чем после. "
   ]
  },
  {
   "cell_type": "code",
   "execution_count": 169,
   "id": "7ff70246",
   "metadata": {},
   "outputs": [],
   "source": [
    "year_median = df_work.date.median()"
   ]
  },
  {
   "cell_type": "code",
   "execution_count": 197,
   "id": "0863e66b",
   "metadata": {},
   "outputs": [],
   "source": [
    "df_work_test_a = df_work.loc[df_work['date'] <= year_median][['ratingValue']].dropna() \n",
    "df_work_test_b = df_work.loc[df_work['date'] > year_median][['ratingValue']].dropna() "
   ]
  },
  {
   "cell_type": "code",
   "execution_count": 198,
   "id": "a8529b23",
   "metadata": {},
   "outputs": [
    {
     "data": {
      "text/plain": [
       "Ttest_indResult(statistic=ratingValue    4.284463\n",
       "dtype: float64, pvalue=ratingValue    0.000033\n",
       "dtype: float64)"
      ]
     },
     "execution_count": 198,
     "metadata": {},
     "output_type": "execute_result"
    }
   ],
   "source": [
    "scipy.stats.ttest_ind_from_stats(mean1 = df_work_test_a.mean(), mean2 = df_work_test_b.mean(), nobs1 = df_work_test_a.count(), nobs2 =df_work_test_b.count() , std1 = df_work_test_a.std(),std2 = df_work_test_b.std(), alternative='greater')\n"
   ]
  },
  {
   "cell_type": "markdown",
   "id": "4c2b5f12",
   "metadata": {},
   "source": [
    "Зачем такой тест, если и так всё понятно по среднему? на случай разброса данных. \n",
    "пример\n",
    "\n",
    "df_work_test_a = pd.Series([1,1,1,5])  \n",
    "df_work_test_b = pd.Series([2,2,2,1])\n",
    "\n",
    "где фильмы лучше?"
   ]
  },
  {
   "cell_type": "code",
   "execution_count": 425,
   "id": "78881da8",
   "metadata": {},
   "outputs": [],
   "source": [
    "# s = df_work[['actors']].dropna(how='any').iat[0,0]"
   ]
  },
  {
   "cell_type": "code",
   "execution_count": 426,
   "id": "fee83368",
   "metadata": {},
   "outputs": [
    {
     "data": {
      "text/plain": [
       "\"['Мэрил Стрип', 'Энн Хэтэуэй', 'Эмили Блант', 'Стэнли Туччи', 'Саймон Бейкер', 'Эдриан Гренье', 'Трейси Томс', 'Рич Соммер', 'Дэниел Сунджата', 'Дэвид Маршалл Грант']\""
      ]
     },
     "execution_count": 426,
     "metadata": {},
     "output_type": "execute_result"
    }
   ],
   "source": [
    "# s"
   ]
  },
  {
   "cell_type": "markdown",
   "id": "9e556a8e",
   "metadata": {},
   "source": [
    "Теперь займёмся нашими актёрами. Давайте узнаем кто с кем больше любит играть и построим по ним граф \n",
    "вопрос нахуя? остаётся висеть в воздухе, как как и вопрос нахуя нам этот курс с его заданиямию"
   ]
  },
  {
   "cell_type": "code",
   "execution_count": 230,
   "id": "1dd24e13",
   "metadata": {
    "scrolled": true
   },
   "outputs": [
    {
     "data": {
      "text/plain": [
       "['Мэрил Стрип',\n",
       " 'Энн Хэтэуэй',\n",
       " 'Эмили Блант',\n",
       " 'Стэнли Туччи',\n",
       " 'Саймон Бейкер',\n",
       " 'Эдриан Гренье',\n",
       " 'Трейси Томс',\n",
       " 'Рич Соммер',\n",
       " 'Дэниел Сунджата',\n",
       " 'Дэвид Маршалл Грант']"
      ]
     },
     "execution_count": 230,
     "metadata": {},
     "output_type": "execute_result"
    }
   ],
   "source": [
    "# s[2:-2].split(\"', '\")"
   ]
  },
  {
   "cell_type": "code",
   "execution_count": 446,
   "id": "4fa739bb",
   "metadata": {},
   "outputs": [],
   "source": [
    "actors = []\n",
    "actors_dic = {}\n",
    "for ind in range(df_work.actors.dropna(how='any').count()):\n",
    "    if type(df_work.actors[ind]) == str:\n",
    "        s = df_work[['actors']].dropna(how='any').iat[ind,0]\n",
    "        m = s[2:-2].split(\"', '\") #Приводим данные к читабельному виду.\n",
    "        for i in range(len(m)-1):\n",
    "            for j in range(i+1,len(m)):\n",
    "                if tuple([m[i],m[j]]) in actors_dic.keys():\n",
    "                    actors_dic[tuple([m[i],m[j]])] += 1\n",
    "                else:\n",
    "                    actors_dic[tuple([m[i],m[j]])] = 1\n",
    "        actors = actors + m\n",
    "        actors = list(set(actors))\n",
    "        actors_dic"
   ]
  },
  {
   "cell_type": "code",
   "execution_count": 451,
   "id": "0a069980",
   "metadata": {},
   "outputs": [],
   "source": [
    "actors_key_nets = {}\n",
    "for key in actors_dic:\n",
    "    if actors_dic[key]>1:\n",
    "        actors_key_nets[key]=actors_dic[key]"
   ]
  },
  {
   "cell_type": "code",
   "execution_count": 452,
   "id": "d337acb5",
   "metadata": {
    "scrolled": true
   },
   "outputs": [
    {
     "data": {
      "text/plain": [
       "{('Леонардо ДиКаприо', 'Марго Робби'): 2,\n",
       " ('Леонардо ДиКаприо', 'Джона Хилл'): 2,\n",
       " ('Кира Найтли', 'Бренда Блетин'): 2}"
      ]
     },
     "execution_count": 452,
     "metadata": {},
     "output_type": "execute_result"
    }
   ],
   "source": [
    "actors_key_nets"
   ]
  },
  {
   "cell_type": "code",
   "execution_count": 459,
   "id": "b96a8279",
   "metadata": {},
   "outputs": [],
   "source": [
    "actors=sum(actors_key_nets.keys(),())"
   ]
  },
  {
   "cell_type": "code",
   "execution_count": 388,
   "id": "0008fa53",
   "metadata": {},
   "outputs": [
    {
     "data": {
      "text/plain": [
       "{('Jork', 'Zoi'): 2,\n",
       " ('Jork', 'Peter'): 1,\n",
       " ('Jork', 'Frank'): 1,\n",
       " ('Zoi', 'Peter'): 3,\n",
       " ('Zoi', 'Frank'): 2,\n",
       " ('Peter', 'Frank'): 1,\n",
       " ('Jork', 'Sebastyan'): 1,\n",
       " ('Zoi', 'Sebastyan'): 1,\n",
       " ('Frank', 'Sebastyan'): 1}"
      ]
     },
     "execution_count": 388,
     "metadata": {},
     "output_type": "execute_result"
    }
   ],
   "source": [
    "# m = ['Jork','Zoi','Peter','Frank']\n",
    "# m = ['Jork','Zoi','Sebastyan']\n",
    "# m = ['Zoi','Frank','Sebastyan']\n",
    "# m = ['Zoi','Peter']\n",
    "m = ['Marc']\n",
    "# Запускала по очереди, увеличивая датасет актёров\n",
    "# Как будто одна m - это набор актёров в 1 фильме\n",
    "\n",
    "for i in range(len(m)-1):\n",
    "    for j in range(i+1,len(m)):\n",
    "        if tuple([m[i],act2[j]]) in actors_dic.keys():\n",
    "            actors_dic[tuple([m[i],m[j]])] += 1\n",
    "        else:\n",
    "            actors_dic[tuple([m[i],m[j]])] = 1\n",
    "actors = actors + m\n",
    "actors = list(set(actors))\n",
    "actors_dic"
   ]
  },
  {
   "cell_type": "code",
   "execution_count": 389,
   "id": "2fecf3e4",
   "metadata": {},
   "outputs": [
    {
     "data": {
      "text/plain": [
       "['Zoi', 'Marc', 'Frank', 'Jork', 'Sebastyan', 'Peter']"
      ]
     },
     "execution_count": 389,
     "metadata": {},
     "output_type": "execute_result"
    }
   ],
   "source": [
    "actors"
   ]
  },
  {
   "cell_type": "code",
   "execution_count": 462,
   "id": "e420ea1a",
   "metadata": {
    "scrolled": true
   },
   "outputs": [
    {
     "data": {
      "text/plain": [
       "{('Леонардо ДиКаприо',\n",
       "  'Марго Робби'): Text(0.654508476093664, 0.47552828417802706, '2'),\n",
       " ('Леонардо ДиКаприо',\n",
       "  'Джона Хилл'): Text(0.09549147175227024, 0.2938926307527015, '2'),\n",
       " ('Кира Найтли',\n",
       "  'Бренда Блетин'): Text(-0.24999994784593424, -0.7694209149307285, '2')}"
      ]
     },
     "execution_count": 462,
     "metadata": {},
     "output_type": "execute_result"
    },
    {
     "data": {
      "image/png": "[encoded data removed]",
      "text/plain": [
       "<Figure size 640x480 with 1 Axes>"
      ]
     },
     "metadata": {},
     "output_type": "display_data"
    }
   ],
   "source": [
    "G = nx.Graph()\n",
    "G.add_nodes_from(actors)\n",
    "G.add_edges_from(actors_key_nets)\n",
    "pos = nx.circular_layout(G)\n",
    "nx.draw(G,pos,with_labels = True,arrows=True,node_color= 'lightgreen',edge_color='lightgrey')\n",
    "nx.draw_networkx_edge_labels(G, pos, edge_labels=actors_key_nets)"
   ]
  },
  {
   "cell_type": "code",
   "execution_count": null,
   "id": "70981d12",
   "metadata": {},
   "outputs": [],
   "source": []
  }
 ],
 "metadata": {
  "kernelspec": {
   "display_name": "Python 3 (ipykernel)",
   "language": "python",
   "name": "python3"
  },
  "language_info": {
   "codemirror_mode": {
    "name": "ipython",
    "version": 3
   },
   "file_extension": ".py",
   "mimetype": "text/x-python",
   "name": "python",
   "nbconvert_exporter": "python",
   "pygments_lexer": "ipython3",
   "version": "3.11.3"
  }
 },
 "nbformat": 4,
 "nbformat_minor": 5
}
